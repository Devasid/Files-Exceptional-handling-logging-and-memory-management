{
  "nbformat": 4,
  "nbformat_minor": 0,
  "metadata": {
    "colab": {
      "provenance": []
    },
    "kernelspec": {
      "name": "python3",
      "display_name": "Python 3"
    },
    "language_info": {
      "name": "python"
    }
  },
  "cells": [
    {
      "cell_type": "markdown",
      "source": [
        "Ques1. What is the difference between interpreted and compiled languages?"
      ],
      "metadata": {
        "id": "cb7bz5yJK5oJ"
      }
    },
    {
      "cell_type": "markdown",
      "source": [
        "compiled language > Source code is translated entirely into machine code by a compiler before it is run. The resulting machine code is then run directly by the system.Examples: C, C++.\n",
        "\n",
        "interpreted language > Source code is read and executed line-by-line by an interpreter at runtime.No separate machine code file is created; the interpreter runs the code directly.Examples: Python, JavaScript."
      ],
      "metadata": {
        "id": "YuJ1XNQJLHCv"
      }
    },
    {
      "cell_type": "markdown",
      "source": [
        "Ques2. What is exception handling in Python?"
      ],
      "metadata": {
        "id": "-xJiA0UQLYVt"
      }
    },
    {
      "cell_type": "markdown",
      "source": [
        "Exception handling in Python is a way to gracefully handle errors that occur during the execution of a program, so your program doesn't crash unexpectedly."
      ],
      "metadata": {
        "id": "K8SK9X5rLl0Z"
      }
    },
    {
      "cell_type": "markdown",
      "source": [
        "Ques3.What is the purpose of the finally block in exception handling?"
      ],
      "metadata": {
        "id": "2fkqI_mFLouW"
      }
    },
    {
      "cell_type": "markdown",
      "source": [
        "Ans3. The finally block is used to ensure that certain code always runs, no matter what happens — whether an exception was raised or not.\n",
        "~~~\n",
        "try:\n",
        "    x = int(input(\"Enter a number: \"))\n",
        "    y = 10 / x\n",
        "except ValueError:\n",
        "    print(\"Invalid input: not a number.\")\n",
        "finally:\n",
        "print(\"done\")\n",
        "~~~"
      ],
      "metadata": {
        "id": "oCt6WYdoLfS5"
      }
    },
    {
      "cell_type": "markdown",
      "source": [
        "Ques4. What is logging in Python?"
      ],
      "metadata": {
        "id": "UIgw9pjxMWp3"
      }
    },
    {
      "cell_type": "markdown",
      "source": [
        "Logging in Python is a way to track events that happen while your program runs. It helps you debug, monitor, and understand your program’s behavior without using print statements.Logging is a better alternative to print() for tracking program events\n",
        "\n",
        "~~~\n",
        "import logging\n",
        "logging.basicConfig(filename=\"xyx.txt\",level=logging.INFO)\n",
        "~~~"
      ],
      "metadata": {
        "id": "NDS462fMMdai"
      }
    },
    {
      "cell_type": "markdown",
      "source": [
        "Ques5. What is the significance of the __del__ method in Python?"
      ],
      "metadata": {
        "id": "BqVifl7sMnWm"
      }
    },
    {
      "cell_type": "markdown",
      "source": [
        "The __del__  method is a special method in Python called a destructor. It is automatically invoked when an object is about to be destroyed — i.e., when it is garbage collected."
      ],
      "metadata": {
        "id": "W6aWexQqMpS1"
      }
    },
    {
      "cell_type": "markdown",
      "source": [
        "Ques6. What is the difference between import and from ... import in Python?"
      ],
      "metadata": {
        "id": "gNEsalp1MtUv"
      }
    },
    {
      "cell_type": "markdown",
      "source": [
        "Both import and from ... import are used to bring external modules or functions into your Python script, but they work differently.\n",
        "\n",
        "Use import when you want the whole module and clear, prefixed access.\n",
        "Use from ... import when you only need specific parts and want cleaner code.\n",
        "\n",
        "~~~\n",
        " from abc import abstractclassmethod\n",
        "~~~\n"
      ],
      "metadata": {
        "id": "edW8N82PMw_c"
      }
    },
    {
      "cell_type": "markdown",
      "source": [
        "Ques7. How can you handle multiple exceptions in Python?"
      ],
      "metadata": {
        "id": "YNuekXIBM3ax"
      }
    },
    {
      "cell_type": "markdown",
      "source": [
        "In Python, you can handle multiple exceptions using multiple except blocks, or by grouping exceptions in a single block.\n",
        "\n",
        "~~~\n",
        "try:\n",
        "    x = int(input(\"Enter a number: \"))\n",
        "    y = 10 / x\n",
        "except ValueError:\n",
        "    print(\"Invalid input: not a number.\")\n",
        "except ZeroDivisionError:\n",
        "    print(\"You can't divide by zero.\")\n",
        "~~~"
      ],
      "metadata": {
        "id": "6-xTyuFiM6kM"
      }
    },
    {
      "cell_type": "markdown",
      "source": [
        "Ques8. What is the purpose of the with statement when handling files in Python?"
      ],
      "metadata": {
        "id": "hWsB__CJM-TR"
      }
    },
    {
      "cell_type": "markdown",
      "source": [
        "The with statement in Python is used to simplify file handling by automatically opening and closing files — even if an error occurs.\n",
        "\n",
        "~~~\n",
        "with open(\"file.txt\",\"w\")as f:\n",
        "   f.write()\n",
        "~~~"
      ],
      "metadata": {
        "id": "1xkeuxKrNB1Q"
      }
    },
    {
      "cell_type": "markdown",
      "source": [
        "Ques9. What is the difference between multithreading and multiprocessing?"
      ],
      "metadata": {
        "id": "J5nU7Y6yNKzR"
      }
    },
    {
      "cell_type": "markdown",
      "source": [
        "> multithreading: Runs multiple threads (smaller tasks) within the same process\n",
        "Threads share the same memory space.\n",
        "~~~\n",
        "import threading\n",
        "\n",
        "def task():\n",
        "    print(\"Run\")\n",
        "\n",
        "t = threading.Thread(target=task)\n",
        "t.start()\n",
        "~~~\n",
        "> multiprocessing: Runs multiple processes, each with its own memory\n",
        "Bypasses the GIL, so tasks run in parallel.\n",
        "~~~\n",
        "import multiprocessing\n",
        "\n",
        "def task():\n",
        "    print(\"Run\")\n",
        "\n",
        "p = multiprocessing.Process(target=task)\n",
        "p.start()\n",
        "~~~"
      ],
      "metadata": {
        "id": "4hrODEutNLn_"
      }
    },
    {
      "cell_type": "markdown",
      "source": [
        "Ques10. What are the advantages of using logging in a program?"
      ],
      "metadata": {
        "id": "jtc7dplCNQ-c"
      }
    },
    {
      "cell_type": "markdown",
      "source": [
        "1. Helps Debugging:\n",
        "Logging records detailed information about what the program is doing, making it easier to find and fix problems.\n",
        "\n",
        "2. Keeps a Permanent Record:\n",
        "Logs can be saved to files, so you can review program activity even after it has finished running.\n",
        "\n",
        "3. Provides Different Levels of Messages:\n",
        "You can categorize logs by importance (e.g., INFO, WARNING, ERROR), helping you focus on what matters most.\n",
        "\n",
        "4. Better than Print Statements:\n",
        "Unlike print, logging can be turned on or off and can be configured to output to different places (files, consoles, etc.)."
      ],
      "metadata": {
        "id": "1Je6GMUvNX79"
      }
    },
    {
      "cell_type": "markdown",
      "source": [
        "Ques11. What is memory management in Python?"
      ],
      "metadata": {
        "id": "VDTh4LfYNbHG"
      }
    },
    {
      "cell_type": "markdown",
      "source": [
        "Memory management in Python refers to how the language allocates, uses, and frees up memory while your program runs."
      ],
      "metadata": {
        "id": "JrGBUQmmNeLc"
      }
    },
    {
      "cell_type": "markdown",
      "source": [
        "Ques12. What are the basic steps involved in exception handling in Python?"
      ],
      "metadata": {
        "id": "q71bhtpbNkVC"
      }
    },
    {
      "cell_type": "markdown",
      "source": [
        "Exception handling in Python is about managing errors so your program doesn’t crash unexpectedly:\n",
        "\n",
        ">try: Put the code that might cause an error inside a try block.\n",
        "~~~\n",
        "try:\n",
        "  print(10/0)\n",
        "~~~\n",
        ">Catch Exceptions with except: Each except handles a specific type of error\n",
        "~~~\n",
        "except Exception as e:\n",
        "      print(\"error is\",e)\n",
        "~~~\n",
        "> finally: Use finally Block\n",
        "~~~\n",
        "finally:\n",
        "  print(\"this will run the code\")\n",
        "~~~\n",
        "all together:\n",
        "~~~\n",
        "try:\n",
        "  print(10/0)\n",
        "except ZeroDivisionError as e:\n",
        "  print(\"error is:\",e)\n",
        "finally:\n",
        "  print(\"this will run the code\")\n",
        "~~~"
      ],
      "metadata": {
        "id": "Ov5rWi70NmnC"
      }
    },
    {
      "cell_type": "markdown",
      "source": [
        "Ques13. Why is memory management important in Python?"
      ],
      "metadata": {
        "id": "cRgEeQ3vNz08"
      }
    },
    {
      "cell_type": "markdown",
      "source": [
        "Memory management is important in Python because it helps ensure that your programs run efficiently and reliably.Memory management in Python is crucial because it keeps your program fast, stable, and resource-friendly by automatically managing how memory is used and freed."
      ],
      "metadata": {
        "id": "TQKsoRcbN2eq"
      }
    },
    {
      "cell_type": "markdown",
      "source": [
        "Ques14. What is the role of try and except in exception handling?"
      ],
      "metadata": {
        "id": "nZvvsw_1N6ad"
      }
    },
    {
      "cell_type": "markdown",
      "source": [
        ">try: Put the code that might cause an error inside a try block.\n",
        ">Catch Exceptions with except: Each except handles a specific type of error\n",
        "~~~\n",
        "try:\n",
        "  print(10/0)\n",
        "except ZeroDivisionError as e:\n",
        "  print(\"error is:\",e)\n",
        "finally:\n",
        "  print(\"this will run the code\")\n",
        "~~~\n"
      ],
      "metadata": {
        "id": "bQ_7cGMBN6hX"
      }
    },
    {
      "cell_type": "markdown",
      "source": [
        "Ques15. How does Python's garbage collection system work?"
      ],
      "metadata": {
        "id": "4Hl9Sr_NN_d5"
      }
    },
    {
      "cell_type": "markdown",
      "source": [
        "Python’s garbage collection (GC) system automatically manages memory by removing objects that are no longer needed so that memory can be reused."
      ],
      "metadata": {
        "id": "ZRFusv_oODI5"
      }
    },
    {
      "cell_type": "markdown",
      "source": [
        "Ques16. What is the purpose of the else block in exception handling?"
      ],
      "metadata": {
        "id": "4VCLjtmBOE0k"
      }
    },
    {
      "cell_type": "markdown",
      "source": [
        "The else block in Python exception handling is used to run code only if no exceptions were raised in the try block.\n",
        "~~~\n",
        "try:\n",
        "    result = 10 / 2\n",
        "except ZeroDivisionError:\n",
        "    print(\"Cannot divide by zero.\")\n",
        "else:\n",
        "    print(\"Division successful! Result is\", result)\n",
        "~~~"
      ],
      "metadata": {
        "id": "eeFWosmIOLd-"
      }
    },
    {
      "cell_type": "markdown",
      "source": [
        "Ques17. What are the common logging levels in Python?"
      ],
      "metadata": {
        "id": "zVOoSRSlOOTs"
      }
    },
    {
      "cell_type": "markdown",
      "source": [
        "Python’s logging module provides different logging levels to indicate the\n",
        "mportance of messages.\n",
        "\n",
        "> DEBUG: For detailed troubleshooting info\n",
        "\n",
        ">INFO: General operational messages\n",
        "\n",
        ">WARNING: Alerts about potential issues\n",
        "\n",
        ">ERROR: Serious problems that affect functionality\n",
        "\n",
        ">CRITICAL: Very severe errors causing program failure"
      ],
      "metadata": {
        "id": "NM3E-keJOTU4"
      }
    },
    {
      "cell_type": "markdown",
      "source": [
        "Que18. What is the difference between os.fork() and multiprocessing in Python"
      ],
      "metadata": {
        "id": "nVlY_eErOXc2"
      }
    },
    {
      "cell_type": "markdown",
      "source": [
        "> os.fork():A low-level function available on Unix/Linux systems only.\n",
        "It creates a child process by duplicating the current process.\n",
        "Both parent and child processes continue running from the same point in the code.\n",
        "> multiprocessing Module:A high-level Python module for creating and managing separate processes.Works on all platforms (Windows, macOS, Linux).\n",
        "Provides easy-to-use classes like Process, Queue, Pool, etc.\n"
      ],
      "metadata": {
        "id": "XteWEO-QOaaj"
      }
    },
    {
      "cell_type": "markdown",
      "source": [
        "Ques19.  What is the importance of closing a file in Python?"
      ],
      "metadata": {
        "id": "XjtY6AcVOcph"
      }
    },
    {
      "cell_type": "markdown",
      "source": [
        "Closing a file in Python is important to ensure that your program uses system resources properly and does not lose data."
      ],
      "metadata": {
        "id": "eetriPnmOf1w"
      }
    },
    {
      "cell_type": "markdown",
      "source": [
        "Ques20. What is the difference between file.read() and file.readline() in Python0"
      ],
      "metadata": {
        "id": "fF2QnXMQOhzO"
      }
    },
    {
      "cell_type": "markdown",
      "source": [
        "file.read():in this we can read the whole file in one go.\n",
        "~~~\n",
        "with open(\"file.txt\",\"r\")as f:\n",
        "   r=f.read()\n",
        "   print(r)\n",
        "~~~\n",
        "\n",
        "file.readline: in this we can read first line of our file.\n",
        "~~~\n",
        "with open(\"file.txt\",\"r\")as f:\n",
        "   r=f.readline()\n",
        "   print(r)\n",
        "~~~\n"
      ],
      "metadata": {
        "id": "TjrihZ94OkZ2"
      }
    },
    {
      "cell_type": "markdown",
      "source": [
        "Ques21. What is the logging module in Python used for?"
      ],
      "metadata": {
        "id": "raKmR2JBOnI-"
      }
    },
    {
      "cell_type": "markdown",
      "source": [
        "The logging module in Python is used to record messages that describe events happening in your program. It helps you track errors, monitor performance, and understand how your code is running — without using print() statements."
      ],
      "metadata": {
        "id": "rnVWq1dmOryV"
      }
    },
    {
      "cell_type": "markdown",
      "source": [
        "Ques22. What is the os module in Python used for in file handling?"
      ],
      "metadata": {
        "id": "hSZucuWZOtwG"
      }
    },
    {
      "cell_type": "markdown",
      "source": [
        "The os module is used to interact with the operating system. In file handling, it helps with:\n",
        "\n",
        ">Checking if files or directories exist: os.path.exists()\n",
        "\n",
        ">Creating directories: os.mkdir(), os.makedirs()\n",
        "\n",
        ">Listing contents of directories: os.listdir()\n",
        "\n",
        ">Deleting files or directories: os.remove(), os.rmdir()\n",
        "\n",
        ">Renaming or moving files: os.rename()\n",
        "\n",
        ">setting the current working directory: os.getcwd(), os.chdir()\n",
        "\n",
        ">Building platform-independent file paths: os.path.join()"
      ],
      "metadata": {
        "id": "a_yJR2KyOvva"
      }
    },
    {
      "cell_type": "markdown",
      "source": [
        "Ques23. What are the challenges associated with memory management in Python?"
      ],
      "metadata": {
        "id": "2DFSmUCmOyha"
      }
    },
    {
      "cell_type": "markdown",
      "source": [
        "Poor memory management can lead to various issues such as memory leaks, fragmentation, excessive paging, and crashes, which indirectly degrade system performance and stability."
      ],
      "metadata": {
        "id": "rZw4Zqk5O2qv"
      }
    },
    {
      "cell_type": "markdown",
      "source": [
        "Ques24.  How do you raise an exception manually in Python?"
      ],
      "metadata": {
        "id": "Ye7lWd1bO6GG"
      }
    },
    {
      "cell_type": "markdown",
      "source": [
        "In Python, we can raise an exception manually using the raise keyword.\n",
        "~~~\n",
        "class MyCustomError(Exception):\n",
        "    pass\n",
        "\n",
        "raise MyCustomError(\"Something custom went wrong\")\n",
        "~~~\n"
      ],
      "metadata": {
        "id": "Ejbk9jk4O_lp"
      }
    },
    {
      "cell_type": "markdown",
      "source": [
        "Ques25. Why is it important to use multithreading in certain applications"
      ],
      "metadata": {
        "id": "FHUQcwi7PDEC"
      }
    },
    {
      "cell_type": "markdown",
      "source": [
        "Multithreading is important in certain applications for several reasons:\n",
        "\n",
        "1. **Improved Responsiveness:** In applications with user interfaces or network operations, multithreading can prevent the application from freezing while waiting for a task to complete. One thread can handle the long-running task while another thread keeps the UI responsive.\n",
        "\n",
        "2. **Better Resource Utilization:** For I/O-bound tasks (tasks that spend a lot of time waiting for input/output operations, like reading from a file or network), multithreading allows the CPU to switch to another thread while one thread is waiting. This makes better use of available resources.\n",
        "\n",
        "3. **Simplified Design for Concurrent Tasks:** When an application needs to perform multiple tasks concurrently (like handling multiple client connections in a server), using separate threads for each task can simplify the program's structure and make it easier to manage.\n",
        "\n",
        "4. **Parallelism (in some cases):** Although Python's Global Interpreter Lock (GIL) limits true parallel execution of CPU-bound tasks in multiple threads on multi-core processors, multithreading can still provide a form of concurrency that is beneficial for I/O-bound operations. In other languages without a GIL, multithreading can achieve true parallelism for CPU-bound tasks"
      ],
      "metadata": {
        "id": "5dZNqsAqPFVb"
      }
    },
    {
      "cell_type": "markdown",
      "source": [
        "PRACTICAL QUESTION"
      ],
      "metadata": {
        "id": "wLX1UDV7PJ8N"
      }
    },
    {
      "cell_type": "code",
      "source": [
        "# Ques1. How can you open a file for writing in Python and write a string to it?\n",
        "with open(\"file.txt\",\"w\") as f:\n",
        "  f.write(\"Hey, my name is Devansh\")\n",
        "  f.write(\"\\nI am in DA course\")"
      ],
      "metadata": {
        "id": "eU4rImzsPXO-"
      },
      "execution_count": 90,
      "outputs": []
    },
    {
      "cell_type": "code",
      "source": [
        "# Ques2. Write a Python program to read the contents of a file and print each line?\n",
        "with open(\"file.txt\",\"r\") as f:\n",
        "  print(f.read())"
      ],
      "metadata": {
        "id": "5GsFDO7sPaS9",
        "colab": {
          "base_uri": "https://localhost:8080/"
        },
        "outputId": "2de01ed1-1af6-4727-b6cf-e240aae5c4ec"
      },
      "execution_count": 91,
      "outputs": [
        {
          "output_type": "stream",
          "name": "stdout",
          "text": [
            "Hey, my name is Devansh\n",
            "I am in DA course\n"
          ]
        }
      ]
    },
    {
      "cell_type": "code",
      "source": [
        "#Ques3. How would you handle a case where the file doesn't exist while trying to open it for reading?\n",
        "try:\n",
        "  with open(\"file_test.txt\",\"r\") as f:\n",
        "    r = f.read()\n",
        "    print(r)\n",
        "except FileNotFoundError as e:\n",
        "  print(\"error is:\",e)"
      ],
      "metadata": {
        "id": "-4n9duHdPcAS",
        "colab": {
          "base_uri": "https://localhost:8080/"
        },
        "outputId": "3e5f137a-a774-4b46-be86-1bbd03797943"
      },
      "execution_count": 92,
      "outputs": [
        {
          "output_type": "stream",
          "name": "stdout",
          "text": [
            "error is: [Errno 2] No such file or directory: 'file_test.txt'\n"
          ]
        }
      ]
    },
    {
      "cell_type": "code",
      "source": [
        "#Ques4. Write a Python script that reads from one file and writes its content to another file?\n",
        "with open(\"file.txt\",\"r\")as f:\n",
        "  print(f.read())\n",
        "\n",
        "with open(\"file.txt\",\"r\") as firstfile:\n",
        "  with open(\"second_file.txt\",\"a\") as secondfile:\n",
        "    for line in firstfile:\n",
        "      secondfile.write(line)\n",
        "\n",
        "with open(\"second_file.txt\",\"r\")as f:\n",
        "  print(f.read())"
      ],
      "metadata": {
        "id": "8QuxC5xxP6TA",
        "colab": {
          "base_uri": "https://localhost:8080/"
        },
        "outputId": "9faf97da-71e7-472c-d6dd-578ca5bcb83c"
      },
      "execution_count": 93,
      "outputs": [
        {
          "output_type": "stream",
          "name": "stdout",
          "text": [
            "Hey, my name is Devansh\n",
            "I am in DA course\n",
            "Hey, my name is Devansh\n",
            "I am in DA courseHey, my name is Devansh\n",
            "I am in DA courseHey, my name is Devansh\n",
            "I am in DA courseHey, my name is Devansh\n",
            "I am in DA courseHey, my name is Devansh\n",
            "I am in DA course\n"
          ]
        }
      ]
    },
    {
      "cell_type": "code",
      "source": [
        "#Ques5. How would you catch and handle division by zero error in Python?\n",
        "try:\n",
        "  print(10/0)\n",
        "except ZeroDivisionError as e:\n",
        "  print(\"error is:\",e)"
      ],
      "metadata": {
        "id": "of9lMBMvP-jt",
        "colab": {
          "base_uri": "https://localhost:8080/"
        },
        "outputId": "8246fe4d-1813-40db-c792-0efe7590bddf"
      },
      "execution_count": 94,
      "outputs": [
        {
          "output_type": "stream",
          "name": "stdout",
          "text": [
            "error is: division by zero\n"
          ]
        }
      ]
    },
    {
      "cell_type": "code",
      "source": [
        "#Ques6. Write a Python program that logs an error message to a log file when a division by zero exception occurs?\n",
        "\n",
        "import logging\n",
        "logging.basicConfig(filename='error.log', level=logging.ERROR)\n",
        "\n",
        "try:\n",
        "  result = 10 / 0\n",
        "except ZeroDivisionError as e:\n",
        "  logging.error(\"Division by zero error occurred: %s\", e)\n",
        "  print(\"An error occurred and has been logged.\")"
      ],
      "metadata": {
        "id": "5LBR2hRXQC_6",
        "colab": {
          "base_uri": "https://localhost:8080/"
        },
        "outputId": "a79b1782-f2da-4a4b-b5e9-acaeb10e158a"
      },
      "execution_count": 95,
      "outputs": [
        {
          "output_type": "stream",
          "name": "stderr",
          "text": [
            "ERROR:root:Division by zero error occurred: division by zero\n"
          ]
        },
        {
          "output_type": "stream",
          "name": "stdout",
          "text": [
            "An error occurred and has been logged.\n"
          ]
        }
      ]
    },
    {
      "cell_type": "code",
      "source": [
        "#Ques7. How do you log information at different levels (INFO, ERROR, WARNING) in Python using the logging module?\n",
        "import logging\n",
        "logging.basicConfig(filename=\"test_log.txt\",level=logging.INFO)\n",
        "\n",
        "logging.info(\"this is info message\")\n",
        "logging.error(\"this is error message\")\n",
        "logging.warning(\"this is last warning\")\n",
        "\n",
        "logging.shutdown()\n"
      ],
      "metadata": {
        "id": "QfPk0pKRQHs5",
        "colab": {
          "base_uri": "https://localhost:8080/"
        },
        "outputId": "682b38e3-fa49-4046-8885-6029e8167b52"
      },
      "execution_count": 96,
      "outputs": [
        {
          "output_type": "stream",
          "name": "stderr",
          "text": [
            "ERROR:root:this is error message\n",
            "WARNING:root:this is last warning\n"
          ]
        }
      ]
    },
    {
      "cell_type": "code",
      "source": [
        "#Ques8.  Write a program to handle a file opening error using exception handling?\n",
        "try:\n",
        "  with open(\"test.txt\",\"r\") as f:\n",
        "    r = f.read()\n",
        "    print(r)\n",
        "except FileNotFoundError as e:\n",
        "  print(\"error is:\",e)"
      ],
      "metadata": {
        "id": "dm1u255LQKad",
        "colab": {
          "base_uri": "https://localhost:8080/"
        },
        "outputId": "66b2b481-161f-4981-eaf3-34ada89946d1"
      },
      "execution_count": 97,
      "outputs": [
        {
          "output_type": "stream",
          "name": "stdout",
          "text": [
            "error is: [Errno 2] No such file or directory: 'test.txt'\n"
          ]
        }
      ]
    },
    {
      "cell_type": "code",
      "source": [
        "#Ques9. How can you read a file line by line and store its content in a list in Python?\n",
        "with open(\"file.txt\",\"r\")as f:\n",
        "  r=f.readlines()\n",
        "  print(r)"
      ],
      "metadata": {
        "id": "YNno_I0XQM3I",
        "colab": {
          "base_uri": "https://localhost:8080/"
        },
        "outputId": "f2565a8a-023a-4ab9-dd84-604c63c67443"
      },
      "execution_count": 98,
      "outputs": [
        {
          "output_type": "stream",
          "name": "stdout",
          "text": [
            "['Hey, my name is Devansh\\n', 'I am in DA course']\n"
          ]
        }
      ]
    },
    {
      "cell_type": "code",
      "source": [
        "#Ques10.  How can you append data to an existing file in Python?\n",
        "with open(\"file.txt\",\"a\")as f:\n",
        "  f.write(\"\\nmy fees is 20000\")"
      ],
      "metadata": {
        "id": "8VJwWDEFQQpK"
      },
      "execution_count": 99,
      "outputs": []
    },
    {
      "cell_type": "code",
      "source": [
        "#Ques11. Write a Python program that uses a try-except block to handle an error when attempting to access a dictionary key that doesn't exist?\n",
        "try:\n",
        " data={\"name\":\"divya\",\"course\":\"DA\"}\n",
        " print(data[\"age\"])\n",
        "except KeyError as e:\n",
        "  print(\"here there is no key:\",e)"
      ],
      "metadata": {
        "id": "LpdXmNMMQT61",
        "colab": {
          "base_uri": "https://localhost:8080/"
        },
        "outputId": "6b64d78a-0321-4d46-c633-b3c5384ee68b"
      },
      "execution_count": 100,
      "outputs": [
        {
          "output_type": "stream",
          "name": "stdout",
          "text": [
            "here there is no key: 'age'\n"
          ]
        }
      ]
    },
    {
      "cell_type": "code",
      "source": [
        "#Ques12. Write a program that demonstrates using multiple except blocks to handle different types of exceptions?\n",
        "try:\n",
        "  x=int(input(\"enter a number:\"))\n",
        "  print(10/x)\n",
        "\n",
        "except ZeroDivisionError as e:\n",
        "  print(\"error is:\",e)\n",
        "except ValueError as e:\n",
        "  print(\"error is:\",e)"
      ],
      "metadata": {
        "id": "gbZLA579QYSR",
        "colab": {
          "base_uri": "https://localhost:8080/"
        },
        "outputId": "194d34a2-bcea-4e75-9e02-cfce97771ef5"
      },
      "execution_count": 101,
      "outputs": [
        {
          "output_type": "stream",
          "name": "stdout",
          "text": [
            "enter a number:459\n",
            "0.02178649237472767\n"
          ]
        }
      ]
    },
    {
      "cell_type": "code",
      "source": [
        "#Ques13.  How would you check if a file exists before attempting to read it in Python?\n",
        "import os\n",
        "if os.path.exists(\"file.txt\"):\n",
        "  print(\"file exixts:\")\n",
        "  with open(\"file.txt\",\"r\")as f:\n",
        "    r=f.read()\n",
        "    print(r)\n",
        "else:\n",
        "  print(\"file not found\")"
      ],
      "metadata": {
        "id": "ZQJTPI2EQeGa",
        "colab": {
          "base_uri": "https://localhost:8080/"
        },
        "outputId": "12dbe15f-2b9d-4291-fc52-ab7b351289fa"
      },
      "execution_count": 102,
      "outputs": [
        {
          "output_type": "stream",
          "name": "stdout",
          "text": [
            "file exixts:\n",
            "Hey, my name is Devansh\n",
            "I am in DA course\n",
            "my fees is 20000\n"
          ]
        }
      ]
    },
    {
      "cell_type": "code",
      "source": [
        "#Ques14.  Write a program that uses the logging module to log both informational and error messages?\n",
        "import logging\n",
        "logging.basicConfig(filename=\"error.log\",level=logging.INFO)\n",
        "\n",
        "logging.info(\"this is informational message\")\n",
        "logging.error(\"this is error message\")\n",
        "\n",
        "logging.shutdown()"
      ],
      "metadata": {
        "id": "92-Xtg_EQiO5",
        "colab": {
          "base_uri": "https://localhost:8080/"
        },
        "outputId": "939a3497-be8b-4af8-c9af-3f00a7d01d68"
      },
      "execution_count": 103,
      "outputs": [
        {
          "output_type": "stream",
          "name": "stderr",
          "text": [
            "ERROR:root:this is error message\n"
          ]
        }
      ]
    },
    {
      "cell_type": "code",
      "source": [
        "#Ques15. Write a Python program that prints the content of a file and handles the case when the file is empty?\n",
        "with open(\"empty.txt\",\"w\")as f:\n",
        " f.write(\"\")\n",
        "\n",
        "size = os.path.getsize(\"empty.txt\")\n",
        "\n",
        "if size==0:\n",
        "  print(\"file is empty\")\n",
        "else:\n",
        "  with open(\"empty.txt\",\"r\")as f:\n",
        "    r=f.read()\n",
        "    print(r)"
      ],
      "metadata": {
        "id": "RU7f21YvQoI6",
        "colab": {
          "base_uri": "https://localhost:8080/"
        },
        "outputId": "3b160794-8177-4143-cb8a-16dac315f607"
      },
      "execution_count": 104,
      "outputs": [
        {
          "output_type": "stream",
          "name": "stdout",
          "text": [
            "file is empty\n"
          ]
        }
      ]
    },
    {
      "cell_type": "code",
      "metadata": {
        "colab": {
          "base_uri": "https://localhost:8080/"
        },
        "id": "7dff327d",
        "outputId": "a7676723-c6ef-46e0-e3e4-7e4369c210f1"
      },
      "source": [
        "#Ques16. Demonstrate how to use memory profiling to check the memory usage of a small program?\n",
        "from memory_profiler import profile\n",
        "\n",
        "@profile\n",
        "def my_function():\n",
        "    a = [1] * 10\n",
        "    b = [2] * 20\n",
        "    return a, b\n",
        "\n",
        "my_function()"
      ],
      "execution_count": 105,
      "outputs": [
        {
          "output_type": "stream",
          "name": "stdout",
          "text": [
            "ERROR: Could not find file /tmp/ipython-input-3943683757.py\n"
          ]
        },
        {
          "output_type": "execute_result",
          "data": {
            "text/plain": [
              "([1, 1, 1, 1, 1, 1, 1, 1, 1, 1],\n",
              " [2, 2, 2, 2, 2, 2, 2, 2, 2, 2, 2, 2, 2, 2, 2, 2, 2, 2, 2, 2])"
            ]
          },
          "metadata": {},
          "execution_count": 105
        }
      ]
    },
    {
      "cell_type": "code",
      "metadata": {
        "colab": {
          "base_uri": "https://localhost:8080/"
        },
        "id": "bbe809dd",
        "outputId": "261d3353-b28f-4af9-edde-4f4a3af4c037"
      },
      "source": [
        "%pip install memory-profiler"
      ],
      "execution_count": 106,
      "outputs": [
        {
          "output_type": "stream",
          "name": "stdout",
          "text": [
            "Requirement already satisfied: memory-profiler in /usr/local/lib/python3.12/dist-packages (0.61.0)\n",
            "Requirement already satisfied: psutil in /usr/local/lib/python3.12/dist-packages (from memory-profiler) (5.9.5)\n"
          ]
        }
      ]
    },
    {
      "cell_type": "code",
      "source": [
        "#Ques17.  Write a Python program to create and write a list of numbers to a file, one number per line\n",
        "data=[1,2,3,4,5,6]\n",
        "import csv\n",
        "\n",
        "with open(\"file_csv.csv\",\"w\")as f:\n",
        "  writer=csv.writer(f)\n",
        "  for num in data:\n",
        "   writer.writerow([num])\n",
        "\n",
        "with open(\"file_csv.csv\",\"r\")as f:\n",
        "  reader=csv.reader(f)\n",
        "  for row in reader:\n",
        "    print(row)"
      ],
      "metadata": {
        "id": "kKjZrP1QQrm1",
        "colab": {
          "base_uri": "https://localhost:8080/"
        },
        "outputId": "32488d45-6ace-4034-fedb-400f9210710e"
      },
      "execution_count": 107,
      "outputs": [
        {
          "output_type": "stream",
          "name": "stdout",
          "text": [
            "['1']\n",
            "['2']\n",
            "['3']\n",
            "['4']\n",
            "['5']\n",
            "['6']\n"
          ]
        }
      ]
    },
    {
      "cell_type": "code",
      "source": [
        "#Ques18. How would you implement a basic logging setup that logs to a file with rotation after 1MB?\n",
        "import logging\n",
        "from logging.handlers import RotatingFileHandler\n",
        "\n",
        "logging.basicConfig(filename=\"test_log.txt\",level=logging.INFO)\n",
        "\n",
        "logging.info(\"this is info message\")\n",
        "logging.error(\"this is error message\")\n",
        "logging.warning(\"this is last warning\")\n",
        "\n",
        "logging.shutdown()"
      ],
      "metadata": {
        "id": "PwutwMtvQvui",
        "colab": {
          "base_uri": "https://localhost:8080/"
        },
        "outputId": "ddc0a191-4d35-4319-f1cc-20d02deea269"
      },
      "execution_count": 108,
      "outputs": [
        {
          "output_type": "stream",
          "name": "stderr",
          "text": [
            "ERROR:root:this is error message\n",
            "WARNING:root:this is last warning\n"
          ]
        }
      ]
    },
    {
      "cell_type": "code",
      "source": [
        "#Ques19. Write a program that handles both IndexError and KeyError using a try-except block?\n",
        "try:\n",
        "  dic={\"name\":\"Devansh\",\"age\":21}\n",
        "  dic[\"course\"]\n",
        "  l1=[1,2,3,4]\n",
        "  l1[5]\n",
        "except (KeyError,IndexError) as e:\n",
        "  print(\"error is:\",e)"
      ],
      "metadata": {
        "id": "ygCt7vEoQyfU",
        "colab": {
          "base_uri": "https://localhost:8080/"
        },
        "outputId": "691882cf-5c21-43dd-a06d-b035657284ec"
      },
      "execution_count": 109,
      "outputs": [
        {
          "output_type": "stream",
          "name": "stdout",
          "text": [
            "error is: 'course'\n"
          ]
        }
      ]
    },
    {
      "cell_type": "code",
      "source": [
        "#Ques20. How would you open a file and read its contents using a context manager in Python?\n",
        "with open(\"file.txt\",\"r\")as f:\n",
        "  r=f.read()\n",
        "  print(r)"
      ],
      "metadata": {
        "id": "QjomwwLOQ39I",
        "colab": {
          "base_uri": "https://localhost:8080/"
        },
        "outputId": "9541e5fe-1ac8-4206-abbf-161f64780c2b"
      },
      "execution_count": 110,
      "outputs": [
        {
          "output_type": "stream",
          "name": "stdout",
          "text": [
            "Hey, my name is Devansh\n",
            "I am in DA course\n",
            "my fees is 20000\n"
          ]
        }
      ]
    },
    {
      "cell_type": "code",
      "source": [
        "#Ques21. Write a Python program that reads a file and prints the number of occurrences of a specific word?\n",
        "\n",
        "with open(\"file.txt\",\"r\")as f:\n",
        "  r=f.read()\n",
        "  print(r.count(\"divya\"))"
      ],
      "metadata": {
        "id": "alEek2nCQ4Dk",
        "colab": {
          "base_uri": "https://localhost:8080/"
        },
        "outputId": "64fb86b8-9dac-415a-ae5b-a708eba71fd5"
      },
      "execution_count": 111,
      "outputs": [
        {
          "output_type": "stream",
          "name": "stdout",
          "text": [
            "0\n"
          ]
        }
      ]
    },
    {
      "cell_type": "code",
      "source": [
        "#Ques22. How can you check if a file is empty before attempting to read its contents?\n",
        "import os\n",
        "size = os.path.getsize(\"file.txt\")\n",
        "\n",
        "if size==0:\n",
        "  print(\"file is empty\")\n",
        "else:\n",
        "  with open(\"file.txt\",\"r\")as f:\n",
        "    r=f.read()\n",
        "    print(\"this file is not empty:\\n\",r)\n"
      ],
      "metadata": {
        "id": "vq69aKSQQ-gR",
        "colab": {
          "base_uri": "https://localhost:8080/"
        },
        "outputId": "207100b9-1232-444e-ade8-b628624a8247"
      },
      "execution_count": 112,
      "outputs": [
        {
          "output_type": "stream",
          "name": "stdout",
          "text": [
            "this file is not empty:\n",
            " Hey, my name is Devansh\n",
            "I am in DA course\n",
            "my fees is 20000\n"
          ]
        }
      ]
    },
    {
      "cell_type": "code",
      "source": [
        "#Ques23. Write a Python program that writes to a log file when an error occurs during file handling.\n",
        "try:\n",
        "    with open(\"data.txt\", \"r\") as file:\n",
        "        c = file.read()\n",
        "        print(c)\n",
        "\n",
        "except Exception as e:\n",
        "    with open(\"error_log.txt\", \"a\") as log_file:\n",
        "        log_file.write(f\"Error: {str(e)}\\n\")\n",
        "\n",
        "# output:\n",
        "# Error: [Errno 2] No such file or directory: 'data.txt'"
      ],
      "metadata": {
        "id": "AZd7JgpORBr2"
      },
      "execution_count": 113,
      "outputs": []
    }
  ]
}